{
 "cells": [
  {
   "cell_type": "code",
   "execution_count": 11,
   "id": "a0fabbfd-3a7b-4bee-8335-476d6a37d98a",
   "metadata": {},
   "outputs": [
    {
     "name": "stdout",
     "output_type": "stream",
     "text": [
      "Requirement already satisfied: requests in c:\\users\\komputer\\anaconda3\\lib\\site-packages (2.32.3)\n",
      "Requirement already satisfied: pandas in c:\\users\\komputer\\anaconda3\\lib\\site-packages (2.2.2)\n",
      "Requirement already satisfied: kafka-python in c:\\users\\komputer\\anaconda3\\lib\\site-packages (2.2.4)\n",
      "Requirement already satisfied: charset-normalizer<4,>=2 in c:\\users\\komputer\\anaconda3\\lib\\site-packages (from requests) (3.3.2)\n",
      "Requirement already satisfied: idna<4,>=2.5 in c:\\users\\komputer\\anaconda3\\lib\\site-packages (from requests) (3.7)\n",
      "Requirement already satisfied: urllib3<3,>=1.21.1 in c:\\users\\komputer\\anaconda3\\lib\\site-packages (from requests) (2.2.3)\n",
      "Requirement already satisfied: certifi>=2017.4.17 in c:\\users\\komputer\\anaconda3\\lib\\site-packages (from requests) (2024.8.30)\n",
      "Requirement already satisfied: numpy>=1.26.0 in c:\\users\\komputer\\anaconda3\\lib\\site-packages (from pandas) (1.26.4)\n",
      "Requirement already satisfied: python-dateutil>=2.8.2 in c:\\users\\komputer\\anaconda3\\lib\\site-packages (from pandas) (2.9.0.post0)\n",
      "Requirement already satisfied: pytz>=2020.1 in c:\\users\\komputer\\anaconda3\\lib\\site-packages (from pandas) (2024.1)\n",
      "Requirement already satisfied: tzdata>=2022.7 in c:\\users\\komputer\\anaconda3\\lib\\site-packages (from pandas) (2023.3)\n",
      "Requirement already satisfied: six>=1.5 in c:\\users\\komputer\\anaconda3\\lib\\site-packages (from python-dateutil>=2.8.2->pandas) (1.16.0)\n"
     ]
    }
   ],
   "source": [
    "import sys\n",
    "!\"{sys.executable}\" -m pip install requests pandas kafka-python"
   ]
  },
  {
   "cell_type": "code",
   "execution_count": 13,
   "id": "8f56ec1e-7ba6-4edd-b227-c434e6db0c01",
   "metadata": {},
   "outputs": [],
   "source": [
    "import time\n",
    "import requests\n",
    "import json\n",
    "import pandas as pd\n",
    "from kafka import KafkaProducer\n",
    "\n",
    "API_URL      = \"https://danepubliczne.imgw.pl/api/data/hydro2/\"\n",
    "KAFKA_BROKER = \"localhost:9092\"\n",
    "TOPIC        = \"hydro2\"\n",
    "POLL_INTERVAL = 60"
   ]
  },
  {
   "cell_type": "code",
   "execution_count": 15,
   "id": "124036fe-72ed-4f06-abc2-d08cd1636320",
   "metadata": {},
   "outputs": [
    {
     "data": {
      "text/html": [
       "<div>\n",
       "<style scoped>\n",
       "    .dataframe tbody tr th:only-of-type {\n",
       "        vertical-align: middle;\n",
       "    }\n",
       "\n",
       "    .dataframe tbody tr th {\n",
       "        vertical-align: top;\n",
       "    }\n",
       "\n",
       "    .dataframe thead th {\n",
       "        text-align: right;\n",
       "    }\n",
       "</style>\n",
       "<table border=\"1\" class=\"dataframe\">\n",
       "  <thead>\n",
       "    <tr style=\"text-align: right;\">\n",
       "      <th></th>\n",
       "      <th>kod_stacji</th>\n",
       "      <th>nazwa_stacji</th>\n",
       "      <th>lon</th>\n",
       "      <th>lat</th>\n",
       "      <th>stan</th>\n",
       "      <th>stan_data</th>\n",
       "      <th>przelyw</th>\n",
       "      <th>przeplyw_data</th>\n",
       "    </tr>\n",
       "  </thead>\n",
       "  <tbody>\n",
       "    <tr>\n",
       "      <th>0</th>\n",
       "      <td>150160330</td>\n",
       "      <td>SZCZYTNA</td>\n",
       "      <td>16.443056</td>\n",
       "      <td>50.415556</td>\n",
       "      <td>133</td>\n",
       "      <td>2025-05-05 19:20:00</td>\n",
       "      <td>None</td>\n",
       "      <td>None</td>\n",
       "    </tr>\n",
       "    <tr>\n",
       "      <th>1</th>\n",
       "      <td>150160340</td>\n",
       "      <td>SARNY</td>\n",
       "      <td>16.465833</td>\n",
       "      <td>50.547778</td>\n",
       "      <td>74</td>\n",
       "      <td>2025-05-05 19:20:00</td>\n",
       "      <td>None</td>\n",
       "      <td>None</td>\n",
       "    </tr>\n",
       "    <tr>\n",
       "      <th>2</th>\n",
       "      <td>150160350</td>\n",
       "      <td>SZALEJÓW GÓRNY</td>\n",
       "      <td>16.537222</td>\n",
       "      <td>50.418333</td>\n",
       "      <td>118</td>\n",
       "      <td>2025-05-05 19:20:00</td>\n",
       "      <td>None</td>\n",
       "      <td>None</td>\n",
       "    </tr>\n",
       "    <tr>\n",
       "      <th>3</th>\n",
       "      <td>150160360</td>\n",
       "      <td>STARKÓW</td>\n",
       "      <td>16.58</td>\n",
       "      <td>50.3775</td>\n",
       "      <td>154</td>\n",
       "      <td>2025-05-05 19:20:00</td>\n",
       "      <td>None</td>\n",
       "      <td>None</td>\n",
       "    </tr>\n",
       "    <tr>\n",
       "      <th>4</th>\n",
       "      <td>150160370</td>\n",
       "      <td>TOPOLICE</td>\n",
       "      <td>16.609167</td>\n",
       "      <td>50.366944</td>\n",
       "      <td>140</td>\n",
       "      <td>2025-05-05 19:20:00</td>\n",
       "      <td>None</td>\n",
       "      <td>None</td>\n",
       "    </tr>\n",
       "  </tbody>\n",
       "</table>\n",
       "</div>"
      ],
      "text/plain": [
       "  kod_stacji    nazwa_stacji        lon        lat stan            stan_data  \\\n",
       "0  150160330        SZCZYTNA  16.443056  50.415556  133  2025-05-05 19:20:00   \n",
       "1  150160340           SARNY  16.465833  50.547778   74  2025-05-05 19:20:00   \n",
       "2  150160350  SZALEJÓW GÓRNY  16.537222  50.418333  118  2025-05-05 19:20:00   \n",
       "3  150160360         STARKÓW      16.58    50.3775  154  2025-05-05 19:20:00   \n",
       "4  150160370        TOPOLICE  16.609167  50.366944  140  2025-05-05 19:20:00   \n",
       "\n",
       "  przelyw przeplyw_data  \n",
       "0    None          None  \n",
       "1    None          None  \n",
       "2    None          None  \n",
       "3    None          None  \n",
       "4    None          None  "
      ]
     },
     "execution_count": 15,
     "metadata": {},
     "output_type": "execute_result"
    }
   ],
   "source": [
    "def fetch_hydro_data(url: str):\n",
    "    resp = requests.get(url)\n",
    "    resp.raise_for_status()\n",
    "    return resp.json()\n",
    "\n",
    "data = fetch_hydro_data(API_URL)\n",
    "df = pd.DataFrame(data)\n",
    "df.head()"
   ]
  },
  {
   "cell_type": "code",
   "execution_count": 17,
   "id": "a1b9efb4-4ca5-4858-bb2f-33eea1842c9b",
   "metadata": {},
   "outputs": [],
   "source": [
    "producer = KafkaProducer(\n",
    "    bootstrap_servers=[KAFKA_BROKER],\n",
    "    value_serializer=lambda v: json.dumps(v).encode(\"utf-8\"),\n",
    "    linger_ms=10\n",
    ")"
   ]
  },
  {
   "cell_type": "code",
   "execution_count": null,
   "id": "020c9278-08d5-4a90-bc91-93148184395e",
   "metadata": {},
   "outputs": [
    {
     "name": "stdout",
     "output_type": "stream",
     "text": [
      "859 rekordów wysłano.\n",
      "859 rekordów wysłano.\n",
      "859 rekordów wysłano.\n",
      "859 rekordów wysłano.\n",
      "859 rekordów wysłano.\n",
      "859 rekordów wysłano.\n",
      "859 rekordów wysłano.\n",
      "859 rekordów wysłano.\n",
      "859 rekordów wysłano.\n",
      "859 rekordów wysłano.\n",
      "859 rekordów wysłano.\n",
      "859 rekordów wysłano.\n",
      "859 rekordów wysłano.\n",
      "859 rekordów wysłano.\n",
      "859 rekordów wysłano.\n"
     ]
    }
   ],
   "source": [
    "try:\n",
    "    while True:\n",
    "        records = fetch_hydro_data(API_URL)\n",
    "        for rec in records:\n",
    "            producer.send(TOPIC, rec)\n",
    "        producer.flush()\n",
    "        print(f\"{len(records)} rekordów wysłano.\")\n",
    "        time.sleep(POLL_INTERVAL)\n",
    "except KeyboardInterrupt:\n",
    "    print(\"Pętlę przerwano.\")\n",
    "finally:\n",
    "    producer.close()\n",
    "    print(\"Producer zamknięty.\")\n"
   ]
  },
  {
   "cell_type": "code",
   "execution_count": null,
   "id": "e9b5aee8-39a2-4a78-848b-d4886b156073",
   "metadata": {},
   "outputs": [],
   "source": []
  }
 ],
 "metadata": {
  "kernelspec": {
   "display_name": "Python 3 (ipykernel)",
   "language": "python",
   "name": "python3"
  },
  "language_info": {
   "codemirror_mode": {
    "name": "ipython",
    "version": 3
   },
   "file_extension": ".py",
   "mimetype": "text/x-python",
   "name": "python",
   "nbconvert_exporter": "python",
   "pygments_lexer": "ipython3",
   "version": "3.12.7"
  }
 },
 "nbformat": 4,
 "nbformat_minor": 5
}
